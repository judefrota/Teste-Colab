{
  "nbformat": 4,
  "nbformat_minor": 0,
  "metadata": {
    "colab": {
      "provenance": [],
      "authorship_tag": "ABX9TyOZMKlLdwP82RctaZZri3SZ",
      "include_colab_link": true
    },
    "kernelspec": {
      "name": "python3",
      "display_name": "Python 3"
    },
    "language_info": {
      "name": "python"
    }
  },
  "cells": [
    {
      "cell_type": "markdown",
      "metadata": {
        "id": "view-in-github",
        "colab_type": "text"
      },
      "source": [
        "<a href=\"https://colab.research.google.com/github/judefrota/Teste-Colab/blob/main/teste.ipynb\" target=\"_parent\"><img src=\"https://colab.research.google.com/assets/colab-badge.svg\" alt=\"Open In Colab\"/></a>"
      ]
    },
    {
      "cell_type": "code",
      "execution_count": null,
      "metadata": {
        "colab": {
          "base_uri": "https://localhost:8080/"
        },
        "id": "8PqnOoL9DKVd",
        "outputId": "a2ba07e1-5df5-40da-9d81-9977aebf00c9"
      },
      "outputs": [
        {
          "output_type": "stream",
          "name": "stdout",
          "text": [
            " defina a:  3\n",
            " defina b:  2\n",
            " defina c:  7\n",
            "12.0\n"
          ]
        }
      ],
      "source": [
        "a = (float(input(\" defina a:  \")))\n",
        "b = (float(input(\" defina b:  \")))\n",
        "c = (float(input(\" defina c:  \")))\n",
        "x = (a + b + c)\n",
        "print(x)\n",
        "\n"
      ]
    }
  ]
}